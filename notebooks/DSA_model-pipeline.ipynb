{
 "cells": [
  {
   "cell_type": "code",
   "execution_count": 1,
   "metadata": {},
   "outputs": [],
   "source": [
    "import utils.data_loader as data_loader\n",
    "from pathlib import Path\n",
    "import utils.model_loader as model_loader"
   ]
  },
  {
   "cell_type": "code",
   "execution_count": 2,
   "metadata": {},
   "outputs": [],
   "source": [
    "data_raw = data_loader.get_data('ml-100k')"
   ]
  },
  {
   "cell_type": "code",
   "execution_count": 3,
   "metadata": {},
   "outputs": [],
   "source": [
    "data_dir = Path(Path.cwd().parents[0], 'data', 'movielens', 'ml-latest-small')\n",
    "data_raw = data_loader.get_data('ratings.csv', False)"
   ]
  },
  {
   "cell_type": "markdown",
   "metadata": {},
   "source": [
    "## Model Pipeline"
   ]
  },
  {
   "cell_type": "code",
   "execution_count": 4,
   "metadata": {},
   "outputs": [],
   "source": [
    "from surprise.model_selection import train_test_split\n",
    "from surprise import SVD, NMF\n",
    "from surprise.prediction_algorithms.knns import KNNBasic\n",
    "from surprise.prediction_algorithms.algo_base import AlgoBase"
   ]
  },
  {
   "cell_type": "code",
   "execution_count": 9,
   "metadata": {},
   "outputs": [],
   "source": [
    "def train_and_evalute_model_pipeline(model_class: AlgoBase, dataset: str = 'ml-100k', \n",
    "                                     from_surprise: bool = True, \n",
    "                                     test_size: float = 0.2,\n",
    "                                     model_kwargs: dict = {}) -> (AlgoBase, dict):\n",
    "    data = data_loader.get_data(dataset, from_surprise)\n",
    "    train_set, test_set = train_test_split(data, test_size, random_state=42)\n",
    "    model = model_loader.get_trained_model(model_class, train_set, model_kwargs)\n",
    "    metrics_dict = model_loader.evaluate_model(model, test_set)\n",
    "    return model, metrics_dict"
   ]
  },
  {
   "cell_type": "code",
   "execution_count": 10,
   "metadata": {},
   "outputs": [
    {
     "name": "stdout",
     "output_type": "stream",
     "text": [
      "Computing the msd similarity matrix...\n",
      "Done computing similarity matrix.\n"
     ]
    },
    {
     "data": {
      "text/plain": [
       "{'RMSE': 0.980150596704479, 'MAE': 0.980150596704479}"
      ]
     },
     "execution_count": 10,
     "metadata": {},
     "output_type": "execute_result"
    }
   ],
   "source": [
    "my_model, metrics_dict = train_and_evalute_model_pipeline(KNNBasic)\n",
    "metrics_dict"
   ]
  },
  {
   "cell_type": "code",
   "execution_count": 21,
   "metadata": {},
   "outputs": [
    {
     "name": "stdout",
     "output_type": "stream",
     "text": [
      "Computing the pearson similarity matrix...\n",
      "Done computing similarity matrix.\n"
     ]
    },
    {
     "data": {
      "text/plain": [
       "{'RMSE': 1.041104054968961, 'MAE': 1.041104054968961}"
      ]
     },
     "execution_count": 21,
     "metadata": {},
     "output_type": "execute_result"
    }
   ],
   "source": [
    "model_kwargs = {'sim_options': {'user_based': False, 'name': 'pearson'}}\n",
    "my_model, metrics_dict = train_and_evalute_model_pipeline(KNNBasic, model_kwargs=model_kwargs)\n",
    "metrics_dict"
   ]
  },
  {
   "cell_type": "code",
   "execution_count": 18,
   "metadata": {},
   "outputs": [
    {
     "data": {
      "text/plain": [
       "{'RMSE': 0.9360802939362804, 'MAE': 0.9360802939362804}"
      ]
     },
     "execution_count": 18,
     "metadata": {},
     "output_type": "execute_result"
    }
   ],
   "source": [
    "my_model, metrics_dict = train_and_evalute_model_pipeline(SVD)\n",
    "metrics_dict"
   ]
  },
  {
   "cell_type": "markdown",
   "metadata": {},
   "source": [
    "## Benchmarking"
   ]
  },
  {
   "cell_type": "code",
   "execution_count": 24,
   "metadata": {},
   "outputs": [
    {
     "name": "stdout",
     "output_type": "stream",
     "text": [
      "Computing the msd similarity matrix...\n",
      "Done computing similarity matrix.\n",
      "Computing the msd similarity matrix...\n",
      "Done computing similarity matrix.\n",
      "Computing the msd similarity matrix...\n",
      "Done computing similarity matrix.\n",
      "Computing the msd similarity matrix...\n",
      "Done computing similarity matrix.\n"
     ]
    },
    {
     "data": {
      "text/plain": [
       "{'KNN user based with cosine similarity': {'RMSE': 0.980150596704479,\n",
       "  'MAE': 0.980150596704479},\n",
       " 'KNN user based with pearson similarity': {'RMSE': 0.980150596704479,\n",
       "  'MAE': 0.980150596704479},\n",
       " 'KNN item based with cosine similarity': {'RMSE': 0.980150596704479,\n",
       "  'MAE': 0.980150596704479},\n",
       " 'KNN item based with pearson similarity': {'RMSE': 0.980150596704479,\n",
       "  'MAE': 0.980150596704479},\n",
       " 'SVD': {'RMSE': 0.9345987396157499, 'MAE': 0.9345987396157499},\n",
       " 'NMF': {'RMSE': 0.9624799306524018, 'MAE': 0.9624799306524018}}"
      ]
     },
     "execution_count": 24,
     "metadata": {},
     "output_type": "execute_result"
    }
   ],
   "source": [
    "benchmark_dict = {}\n",
    "\n",
    "\n",
    "model_dict_list = [\n",
    "    {\n",
    "        'model_name' : 'KNN user based with cosine similarity',\n",
    "        'model_class' : KNNBasic,\n",
    "        'model_kwargs' : {'user_based': True, 'name': 'cosine'}\n",
    "    },\n",
    "    {\n",
    "        'model_name' : 'KNN user based with pearson similarity',\n",
    "        'model_class' : KNNBasic,\n",
    "        'model_kwargs' : {'user_based': True, 'name': 'pearson'}\n",
    "    },\n",
    "    {\n",
    "        'model_name' : 'KNN item based with cosine similarity',\n",
    "        'model_class' : KNNBasic,\n",
    "        'model_kwargs' : {'user_based': False, 'name': 'cosine'}\n",
    "    },\n",
    "    {\n",
    "        'model_name' : 'KNN item based with pearson similarity',\n",
    "        'model_class' : KNNBasic,\n",
    "        'model_kwargs' : {'user_based': False, 'name': 'pearson'}\n",
    "    },\n",
    "    {\n",
    "        'model_name' : 'SVD',\n",
    "        'model_class' : SVD\n",
    "    },\n",
    "    {\n",
    "        'model_name' : 'NMF',\n",
    "        'model_class' : NMF\n",
    "    },\n",
    "    \n",
    "]\n",
    "\n",
    "for model_dict in model_dict_list:\n",
    "    model, metrics_dict = train_and_evalute_model_pipeline(\n",
    "        model_dict['model_class'], model_kwargs = model_dict.get('model_kwargs', {}))\n",
    "    benchmark_dict[model_dict['model_name']] = metrics_dict\n",
    "    model_dict['fitted_model'] = model\n",
    "    \n",
    "\n",
    "benchmark_dict"
   ]
  },
  {
   "cell_type": "markdown",
   "metadata": {},
   "source": [
    "## User Recommendation"
   ]
  },
  {
   "cell_type": "code",
   "execution_count": 97,
   "metadata": {},
   "outputs": [
    {
     "data": {
      "text/html": [
       "<div>\n",
       "<style scoped>\n",
       "    .dataframe tbody tr th:only-of-type {\n",
       "        vertical-align: middle;\n",
       "    }\n",
       "\n",
       "    .dataframe tbody tr th {\n",
       "        vertical-align: top;\n",
       "    }\n",
       "\n",
       "    .dataframe thead th {\n",
       "        text-align: right;\n",
       "    }\n",
       "</style>\n",
       "<table border=\"1\" class=\"dataframe\">\n",
       "  <thead>\n",
       "    <tr style=\"text-align: right;\">\n",
       "      <th></th>\n",
       "      <th>title</th>\n",
       "      <th>genres</th>\n",
       "    </tr>\n",
       "  </thead>\n",
       "  <tbody>\n",
       "    <tr>\n",
       "      <th>0</th>\n",
       "      <td>Toy Story (1995)</td>\n",
       "      <td>Adventure|Animation|Children|Comedy|Fantasy</td>\n",
       "    </tr>\n",
       "    <tr>\n",
       "      <th>6490</th>\n",
       "      <td>Mr. Brooks (2007)</td>\n",
       "      <td>Crime|Drama|Thriller</td>\n",
       "    </tr>\n",
       "    <tr>\n",
       "      <th>6491</th>\n",
       "      <td>Librarian: Return to King Solomon's Mines, The...</td>\n",
       "      <td>Action|Adventure|Fantasy</td>\n",
       "    </tr>\n",
       "    <tr>\n",
       "      <th>6492</th>\n",
       "      <td>Librarian: Quest for the Spear, The (2004)</td>\n",
       "      <td>Action|Adventure|Comedy|Fantasy|Romance</td>\n",
       "    </tr>\n",
       "    <tr>\n",
       "      <th>6493</th>\n",
       "      <td>Fay Grim (2006)</td>\n",
       "      <td>Action|Thriller</td>\n",
       "    </tr>\n",
       "    <tr>\n",
       "      <th>6494</th>\n",
       "      <td>I'm a Cyborg, But That's OK (Saibogujiman kwen...</td>\n",
       "      <td>Comedy|Drama|Romance|Sci-Fi</td>\n",
       "    </tr>\n",
       "    <tr>\n",
       "      <th>6495</th>\n",
       "      <td>Breed, The (2006)</td>\n",
       "      <td>Horror|Thriller</td>\n",
       "    </tr>\n",
       "    <tr>\n",
       "      <th>6496</th>\n",
       "      <td>Cashback (2006)</td>\n",
       "      <td>Comedy|Drama|Romance</td>\n",
       "    </tr>\n",
       "    <tr>\n",
       "      <th>6497</th>\n",
       "      <td>Ocean's Thirteen (2007)</td>\n",
       "      <td>Crime|Thriller</td>\n",
       "    </tr>\n",
       "    <tr>\n",
       "      <th>6498</th>\n",
       "      <td>Them (Ils) (2006)</td>\n",
       "      <td>Horror</td>\n",
       "    </tr>\n",
       "  </tbody>\n",
       "</table>\n",
       "</div>"
      ],
      "text/plain": [
       "                                                  title  \\\n",
       "0                                      Toy Story (1995)   \n",
       "6490                                  Mr. Brooks (2007)   \n",
       "6491  Librarian: Return to King Solomon's Mines, The...   \n",
       "6492         Librarian: Quest for the Spear, The (2004)   \n",
       "6493                                    Fay Grim (2006)   \n",
       "6494  I'm a Cyborg, But That's OK (Saibogujiman kwen...   \n",
       "6495                                  Breed, The (2006)   \n",
       "6496                                    Cashback (2006)   \n",
       "6497                            Ocean's Thirteen (2007)   \n",
       "6498                                  Them (Ils) (2006)   \n",
       "\n",
       "                                           genres  \n",
       "0     Adventure|Animation|Children|Comedy|Fantasy  \n",
       "6490                         Crime|Drama|Thriller  \n",
       "6491                     Action|Adventure|Fantasy  \n",
       "6492      Action|Adventure|Comedy|Fantasy|Romance  \n",
       "6493                              Action|Thriller  \n",
       "6494                  Comedy|Drama|Romance|Sci-Fi  \n",
       "6495                              Horror|Thriller  \n",
       "6496                         Comedy|Drama|Romance  \n",
       "6497                               Crime|Thriller  \n",
       "6498                                       Horror  "
      ]
     },
     "execution_count": 97,
     "metadata": {},
     "output_type": "execute_result"
    }
   ],
   "source": [
    "import pandas as pd\n",
    "\n",
    "def get_movies_data():\n",
    "    movies = pd.read_csv(Path(data_dir, 'movies.csv'))\n",
    "    return movies\n",
    "\n",
    "def get_predictions(model, user, movies, k):\n",
    "    movies['user'] = user\n",
    "    preds = movies.apply(lambda x: model.predict(x[0], x[-1]), 1, result_type='expand')\n",
    "    idx = preds[3].argsort()[:k]\n",
    "    ids = preds.iloc[idx, 0]\n",
    "    mvs = movies.movieId.isin(ids)\n",
    "    return movies.loc[mvs, ['title', 'genres']]\n",
    "    \n",
    "\n",
    "    \n",
    "def get_user_recommendation(model: AlgoBase, user_id: int, k: int, data, movies : pandas.DataFrame\n",
    "                           ) -> pandas.DataFrame:\n",
    "    \"\"\"Makes movie recommendations a user.\n",
    "    \n",
    "    Parameters\n",
    "    ----------\n",
    "        model : AlgoBase\n",
    "            A trained surprise model\n",
    "        user_id : int\n",
    "            The user for whom the recommendation will be done.\n",
    "        k : int\n",
    "            The number of items to recommend.\n",
    "        data : FIXME\n",
    "            The data needed to do the recommendation.\n",
    "        movies : pandas.DataFrame\n",
    "            The dataframe containing the movies metadata (title, genre, etc)\n",
    "        \n",
    "    Returns\n",
    "    -------\n",
    "    pandas.Dataframe\n",
    "        A dataframe with the k movies that will be recommended the user. The dataframe should have the following\n",
    "        columns (movie_name : str, movie_genre : str, predicted_rating : float, true_rating : float)\n",
    "        \n",
    "    Notes\n",
    "    -----\n",
    "    - You should create other functions that are used in this one and not put all the code in the same function.\n",
    "        For example to create the final dataframe, instead of implemented all the code\n",
    "        in this function (get_user_recommendation), you can create a new one (create_recommendation_dataframe)\n",
    "        that will be called in this function.\n",
    "    - You can add other arguments to the function if you need to.\n",
    "    \"\"\"\n",
    "    \n",
    "    model = model_loader.get_trained_model(model, data.build_full_trainset())\n",
    "    predictions = get_predictions(model, user_id, movies, k)\n",
    "    return predictions\n",
    "\n",
    "recommendations = get_user_recommendation(SVD, 196, 10, data_raw, get_movies_data())\n",
    "recommendations[['title', 'genres']]"
   ]
  },
  {
   "cell_type": "code",
   "execution_count": null,
   "metadata": {},
   "outputs": [],
   "source": []
  }
 ],
 "metadata": {
  "kernelspec": {
   "display_name": "epita_recsys",
   "language": "python",
   "name": "epita_recsys"
  },
  "language_info": {
   "codemirror_mode": {
    "name": "ipython",
    "version": 3
   },
   "file_extension": ".py",
   "mimetype": "text/x-python",
   "name": "python",
   "nbconvert_exporter": "python",
   "pygments_lexer": "ipython3",
   "version": "3.8.0"
  }
 },
 "nbformat": 4,
 "nbformat_minor": 4
}
