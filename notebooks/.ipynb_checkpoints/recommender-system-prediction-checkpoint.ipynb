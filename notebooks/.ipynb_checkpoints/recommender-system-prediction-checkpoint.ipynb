{
 "cells": [
  {
   "cell_type": "code",
   "execution_count": null,
   "metadata": {},
   "outputs": [],
   "source": [
    "import pandas\n",
    "from  surprise.prediction_algorithms.algo_base import AlgoBase"
   ]
  },
  {
   "cell_type": "code",
   "execution_count": null,
   "metadata": {},
   "outputs": [],
   "source": [
    "def get_user_recommendation(model: AlgoBase, user_id: int, k: int, data, movies : pandas.DataFrame\n",
    "                           ) -> pandas.DataFrame:\n",
    "    \"\"\"Makes movie recommendations a user.\n",
    "    \n",
    "    Parameters\n",
    "    ----------\n",
    "        model : AlgoBase\n",
    "            A trained surprise model\n",
    "        user_id : int\n",
    "            The user for whom the recommendation will be done.\n",
    "        k : int\n",
    "            The number of items to recommend.\n",
    "        data : FIXME\n",
    "            The data needed to do the recommendation.\n",
    "        movies : pandas.DataFrame\n",
    "            The dataframe containing the movies metadata (title, genre, etc)\n",
    "        \n",
    "    Returns\n",
    "    -------\n",
    "    pandas.Dataframe\n",
    "        A dataframe with the k movies that will be recommended the user. The dataframe should have the following\n",
    "        columns (movie_name : str, movie_genre : str, predicted_rating : float, true_rating : float)\n",
    "        \n",
    "    Notes\n",
    "    -----\n",
    "    - You should create other functions that are used in this one and not put all the code in the same function.\n",
    "        For example to create the final dataframe, instead of implemented all the code\n",
    "        in this function (get_user_recommendation), you can create a new one (create_recommendation_dataframe)\n",
    "        that will be called in this function.\n",
    "    - You can add other arguments to the function if you need to.\n",
    "    \"\"\"\n",
    "    # FIXME\n",
    "    pass"
   ]
  }
 ],
 "metadata": {
  "kernelspec": {
   "display_name": "Python 3",
   "language": "python",
   "name": "python3"
  },
  "language_info": {
   "codemirror_mode": {
    "name": "ipython",
    "version": 3
   },
   "file_extension": ".py",
   "mimetype": "text/x-python",
   "name": "python",
   "nbconvert_exporter": "python",
   "pygments_lexer": "ipython3",
   "version": "3.8.5"
  },
  "toc": {
   "base_numbering": 1,
   "nav_menu": {},
   "number_sections": true,
   "sideBar": true,
   "skip_h1_title": false,
   "title_cell": "Table of Contents",
   "title_sidebar": "Contents",
   "toc_cell": false,
   "toc_position": {},
   "toc_section_display": true,
   "toc_window_display": false
  }
 },
 "nbformat": 4,
 "nbformat_minor": 4
}
