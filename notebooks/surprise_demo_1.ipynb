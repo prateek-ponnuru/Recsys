{
 "cells": [
  {
   "cell_type": "code",
   "execution_count": 21,
   "metadata": {},
   "outputs": [],
   "source": [
    "from surprise import SVD, Dataset, accuracy\n",
    "from surprise.model_selection import train_test_split, cross_validate, KFold\n",
    "from sklearn.pipeline import Pipeline\n",
    "import time\n",
    "import numpy as np"
   ]
  },
  {
   "cell_type": "markdown",
   "metadata": {},
   "source": [
    "## Data Import"
   ]
  },
  {
   "cell_type": "code",
   "execution_count": null,
   "metadata": {},
   "outputs": [],
   "source": [
    "data_raw = Dataset.load_builtin('ml-100k')"
   ]
  },
  {
   "cell_type": "code",
   "execution_count": 7,
   "metadata": {},
   "outputs": [
    {
     "data": {
      "text/plain": [
       "<surprise.dataset.DatasetAutoFolds at 0x23c6bbacbe0>"
      ]
     },
     "execution_count": 7,
     "metadata": {},
     "output_type": "execute_result"
    }
   ],
   "source": [
    "from surprise import Reader\n",
    "from pathlib import Path\n",
    "\n",
    "path = Path(Path.cwd().parents[0], 'data', 'movielens', 'ml-latest-small')\n",
    "reader = Reader(line_format = 'user item rating timestamp', sep=',', skip_lines=1)\n",
    "rating_data = Dataset.load_from_file(Path(path, 'ratings.csv'), reader)\n",
    "rating_data"
   ]
  },
  {
   "cell_type": "code",
   "execution_count": 10,
   "metadata": {},
   "outputs": [],
   "source": [
    "train, test = train_test_split(rating_data, test_size=.2)"
   ]
  },
  {
   "cell_type": "code",
   "execution_count": 53,
   "metadata": {},
   "outputs": [],
   "source": [
    "mean_rmse = list()\n",
    "mean_mae = list()\n",
    "exec_times = list()"
   ]
  },
  {
   "cell_type": "markdown",
   "metadata": {},
   "source": [
    "## Pipeline 1"
   ]
  },
  {
   "cell_type": "code",
   "execution_count": 8,
   "metadata": {},
   "outputs": [],
   "source": [
    "alg = SVD()"
   ]
  },
  {
   "cell_type": "code",
   "execution_count": 11,
   "metadata": {},
   "outputs": [
    {
     "data": {
      "text/plain": [
       "<surprise.prediction_algorithms.matrix_factorization.SVD at 0x23c43431670>"
      ]
     },
     "execution_count": 11,
     "metadata": {},
     "output_type": "execute_result"
    }
   ],
   "source": [
    "alg.fit(train)"
   ]
  },
  {
   "cell_type": "code",
   "execution_count": 71,
   "metadata": {},
   "outputs": [],
   "source": [
    "preds = alg.test(test)"
   ]
  },
  {
   "cell_type": "code",
   "execution_count": 54,
   "metadata": {},
   "outputs": [
    {
     "name": "stdout",
     "output_type": "stream",
     "text": [
      "Evaluating RMSE, MAE of algorithm SVD on 5 split(s).\n",
      "\n",
      "                  Fold 1  Fold 2  Fold 3  Fold 4  Fold 5  Mean    Std     \n",
      "RMSE (testset)    0.8815  0.8777  0.8681  0.8733  0.8696  0.8740  0.0050  \n",
      "MAE (testset)     0.6761  0.6742  0.6692  0.6683  0.6678  0.6711  0.0034  \n",
      "Fit time          9.19    9.26    9.44    9.23    9.20    9.26    0.09    \n",
      "Test time         0.30    0.46    0.29    0.30    0.45    0.36    0.08    \n"
     ]
    }
   ],
   "source": [
    "start = time.time()\n",
    "cval_res = cross_validate(alg, rating_data, measures=['RMSE', 'MAE'], cv=KFold(5, random_state=0), verbose=True)\n",
    "exec_time = time.time() - start\n",
    "exec_times.append(exec_time)\n",
    "mean_rmse.append(np.mean(cval_res['test_rmse']))\n",
    "mean_mae.append(np.mean(cval_res['test_mae']))"
   ]
  },
  {
   "cell_type": "markdown",
   "metadata": {},
   "source": [
    "## Pipeline 2"
   ]
  },
  {
   "cell_type": "code",
   "execution_count": 55,
   "metadata": {},
   "outputs": [],
   "source": [
    "from surprise.prediction_algorithms.knns import KNNBasic\n",
    "\n",
    "opts = {'name': 'cosine', 'user_based':True}\n",
    "user_model = KNNBasic(sim_options=opts)"
   ]
  },
  {
   "cell_type": "code",
   "execution_count": 58,
   "metadata": {},
   "outputs": [
    {
     "name": "stdout",
     "output_type": "stream",
     "text": [
      "Estimating biases using als...\n",
      "Computing the pearson_baseline similarity matrix...\n",
      "Done computing similarity matrix.\n"
     ]
    },
    {
     "data": {
      "text/plain": [
       "<surprise.prediction_algorithms.knns.KNNBasic at 0x168d05fb460>"
      ]
     },
     "execution_count": 58,
     "metadata": {},
     "output_type": "execute_result"
    }
   ],
   "source": [
    "user_model.fit(train)"
   ]
  },
  {
   "cell_type": "code",
   "execution_count": 60,
   "metadata": {},
   "outputs": [
    {
     "name": "stdout",
     "output_type": "stream",
     "text": [
      "RMSE: 1.0033\n"
     ]
    },
    {
     "data": {
      "text/plain": [
       "1.003272615449386"
      ]
     },
     "metadata": {},
     "output_type": "display_data"
    },
    {
     "name": "stdout",
     "output_type": "stream",
     "text": [
      "MAE:  0.7948\n"
     ]
    },
    {
     "data": {
      "text/plain": [
       "0.7947790716816"
      ]
     },
     "metadata": {},
     "output_type": "display_data"
    }
   ],
   "source": [
    "preds1 = user_model.test(test)\n",
    "\n",
    "display(accuracy.rmse(preds1))\n",
    "display(accuracy.mae(preds1))"
   ]
  },
  {
   "cell_type": "code",
   "execution_count": 56,
   "metadata": {},
   "outputs": [
    {
     "name": "stdout",
     "output_type": "stream",
     "text": [
      "Computing the cosine similarity matrix...\n",
      "Done computing similarity matrix.\n",
      "Computing the cosine similarity matrix...\n",
      "Done computing similarity matrix.\n",
      "Computing the cosine similarity matrix...\n",
      "Done computing similarity matrix.\n",
      "Computing the cosine similarity matrix...\n",
      "Done computing similarity matrix.\n",
      "Computing the cosine similarity matrix...\n",
      "Done computing similarity matrix.\n"
     ]
    }
   ],
   "source": [
    "start = time.time()\n",
    "cval_res = cross_validate(user_model, rating_data, measures=['RMSE', 'MAE'], cv=KFold(5, random_state=0), verbose=False)\n",
    "exec_time = time.time() - start\n",
    "exec_times.append(exec_time)\n",
    "mean_rmse.append(np.mean(cval_res['test_rmse']))\n",
    "mean_mae.append(np.mean(cval_res['test_mae']))"
   ]
  },
  {
   "cell_type": "code",
   "execution_count": 57,
   "metadata": {},
   "outputs": [],
   "source": [
    "opts = {'name': 'cosine', 'user_based': False} #other similarity options: pearson, pearson_baseline\n",
    "item_model = KNNBasic(sim_options=opts)"
   ]
  },
  {
   "cell_type": "code",
   "execution_count": 62,
   "metadata": {},
   "outputs": [
    {
     "name": "stdout",
     "output_type": "stream",
     "text": [
      "Estimating biases using als...\n",
      "Computing the pearson_baseline similarity matrix...\n",
      "Done computing similarity matrix.\n"
     ]
    }
   ],
   "source": [
    "item_model.fit(train)"
   ]
  },
  {
   "cell_type": "code",
   "execution_count": 63,
   "metadata": {},
   "outputs": [
    {
     "name": "stdout",
     "output_type": "stream",
     "text": [
      "RMSE: 1.0033\n"
     ]
    },
    {
     "data": {
      "text/plain": [
       "1.003272615449386"
      ]
     },
     "metadata": {},
     "output_type": "display_data"
    },
    {
     "name": "stdout",
     "output_type": "stream",
     "text": [
      "MAE:  0.7948\n"
     ]
    },
    {
     "data": {
      "text/plain": [
       "0.7947790716816"
      ]
     },
     "metadata": {},
     "output_type": "display_data"
    }
   ],
   "source": [
    "preds2 = item_model.test(test)\n",
    "\n",
    "display(accuracy.rmse(preds))\n",
    "display(accuracy.mae(preds))"
   ]
  },
  {
   "cell_type": "code",
   "execution_count": 58,
   "metadata": {},
   "outputs": [
    {
     "name": "stdout",
     "output_type": "stream",
     "text": [
      "Computing the cosine similarity matrix...\n",
      "Done computing similarity matrix.\n",
      "Computing the cosine similarity matrix...\n",
      "Done computing similarity matrix.\n",
      "Computing the cosine similarity matrix...\n",
      "Done computing similarity matrix.\n",
      "Computing the cosine similarity matrix...\n",
      "Done computing similarity matrix.\n",
      "Computing the cosine similarity matrix...\n",
      "Done computing similarity matrix.\n"
     ]
    }
   ],
   "source": [
    "start = time.time()\n",
    "cval_res = cross_validate(item_model, rating_data, measures=['RMSE', 'MAE'], cv=KFold(5, random_state=0), verbose=False)\n",
    "exec_time = time.time() - start\n",
    "exec_times.append(exec_time)\n",
    "mean_rmse.append(np.mean(cval_res['test_rmse']))\n",
    "mean_mae.append(np.mean(cval_res['test_mae']))"
   ]
  },
  {
   "cell_type": "code",
   "execution_count": 59,
   "metadata": {},
   "outputs": [],
   "source": [
    "import pandas as pd\n",
    "\n",
    "baseline_df = pd.DataFrame({'mae': mean_mae, 'rmse': mean_rmse, 'exec_time': exec_times, \n",
    "                            'model': ['svm', 'user_based_collaborative_filtering', 'item_based_collaborative_filtering']})"
   ]
  },
  {
   "cell_type": "markdown",
   "metadata": {},
   "source": [
    "## Benchmarking"
   ]
  },
  {
   "cell_type": "code",
   "execution_count": 37,
   "metadata": {},
   "outputs": [],
   "source": [
    "import matplotlib.pyplot as plt\n",
    "import seaborn as sns"
   ]
  },
  {
   "cell_type": "code",
   "execution_count": 65,
   "metadata": {},
   "outputs": [
    {
     "data": {
      "text/plain": [
       "<AxesSubplot:xlabel='exec_time', ylabel='model'>"
      ]
     },
     "execution_count": 65,
     "metadata": {},
     "output_type": "execute_result"
    },
    {
     "data": {
      "image/png": "[encoded data removed]",
      "text/plain": [
       "<Figure size 1080x360 with 3 Axes>"
      ]
     },
     "metadata": {
      "needs_background": "light"
     },
     "output_type": "display_data"
    }
   ],
   "source": [
    "fig, axs = plt.subplots(1, 3, figsize=(15, 5), sharey=True)\n",
    "\n",
    "sns.barplot(data=baseline_df, y='model', x='mae', ax=axs[0])\n",
    "sns.barplot(data=baseline_df, y='model', x='rmse', ax=axs[1])\n",
    "sns.barplot(data=baseline_df, y='model', x='exec_time', ax=axs[2])\n",
    "# dir(fig)"
   ]
  },
  {
   "cell_type": "code",
   "execution_count": null,
   "metadata": {},
   "outputs": [],
   "source": []
  }
 ],
 "metadata": {
  "kernelspec": {
   "display_name": "epita_recsys",
   "language": "python",
   "name": "epita_recsys"
  },
  "language_info": {
   "codemirror_mode": {
    "name": "ipython",
    "version": 3
   },
   "file_extension": ".py",
   "mimetype": "text/x-python",
   "name": "python",
   "nbconvert_exporter": "python",
   "pygments_lexer": "ipython3",
   "version": "3.8.0"
  }
 },
 "nbformat": 4,
 "nbformat_minor": 4
}
